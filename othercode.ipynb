{
 "cells": [
  {
   "cell_type": "code",
   "execution_count": 1,
   "metadata": {
    "vscode": {
     "languageId": "shellscript"
    }
   },
   "outputs": [],
   "source": [
    "%%bash\n",
    "#generate original sequence list\n",
    "file_path=\"gene.fna\"\n",
    "file_output=\"original_dna_sequence_list.txt\"\n",
    "sequences=$(awk '/^[>]/ {if (seq) {print seq}; seq=\"\"; next} /^[^>]/ {gsub(/\\n/, \"\"); seq = seq $0} END {print seq}' \"$file_path\")\n",
    "while read -r sequence; do\n",
    "    echo \"$sequence\" >> \"$file_output\"\n",
    "done <<< \"$sequences\""
   ]
  }
 ],
 "metadata": {
  "kernelspec": {
   "display_name": "chroma",
   "language": "python",
   "name": "python3"
  },
  "language_info": {
   "codemirror_mode": {
    "name": "ipython",
    "version": 3
   },
   "file_extension": ".py",
   "mimetype": "text/x-python",
   "name": "python",
   "nbconvert_exporter": "python",
   "pygments_lexer": "ipython3",
   "version": "3.9.18"
  }
 },
 "nbformat": 4,
 "nbformat_minor": 2
}
